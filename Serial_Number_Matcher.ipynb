{
 "cells": [
  {
   "cell_type": "code",
   "execution_count": 1,
   "metadata": {},
   "outputs": [],
   "source": [
    "import pandas as pd\n",
    "import time\n",
    "import math\n",
    "import csv\n",
    "start=time.time()"
   ]
  },
  {
   "cell_type": "code",
   "execution_count": 2,
   "metadata": {},
   "outputs": [],
   "source": [
    "def read_data(filename):\n",
    "    dataset=pd.read_csv(filename)\n",
    "    return dataset['data']"
   ]
  },
  {
   "cell_type": "code",
   "execution_count": 3,
   "metadata": {},
   "outputs": [],
   "source": [
    "def det_stat(dataset):\n",
    "    # this function makes this program more flexible as it allows us to find the cutoff score \n",
    "    # for our dataset so that we can find all matching serial numbers whose score fall in 90th percentile range.\n",
    "    d=[]\n",
    "    for i in range(len(dataset)):\n",
    "        for j in range(len(dataset)):\n",
    "            if(dataset[i]!=dataset[j]):\n",
    "                d.append(KMP(dataset[i],dataset[j],1,0))\n",
    "    d.sort()\n",
    "    return(d[math.floor(0.9*len(d))])"
   ]
  },
  {
   "cell_type": "code",
   "execution_count": 4,
   "metadata": {},
   "outputs": [],
   "source": [
    "def check(data):\n",
    "    # this function helps us check wheather the string is in exponential floating number format or a normal string\n",
    "    # of characters and digits.\n",
    "    for j in range(len(data)):\n",
    "        s=data[j]\n",
    "        for i in range(len(s)-1):\n",
    "            if(s[i].isdigit() and s[i+1]=='.'):\n",
    "                temp=data[j]\n",
    "                if(s[i+1:].find('E')!=-1):\n",
    "                    temp=int(float(data[j]))\n",
    "                data[j]=temp\n",
    "    return(data)    "
   ]
  },
  {
   "cell_type": "code",
   "execution_count": 5,
   "metadata": {},
   "outputs": [],
   "source": [
    "def KMP(test_string,pattern,mode,cutoff):\n",
    "    # it is a modyfied string matching algorithm which works in three modes.\n",
    "    #     $ mode 0 is for calculating and getting the Match score.\n",
    "    #     $ mode 1 is for using the supplied cutoff as matching criterion.\n",
    "    #     $ mode 2 is hardwired cutoff criterion i.e. change is 2 or less characters should be labeled 1 otherwise 0.\n",
    "    i=0\n",
    "    j=0\n",
    "    c=0\n",
    "    while(i<len(test_string) and j<len(pattern)): \n",
    "            if(test_string[i]==pattern[j]):\n",
    "                j+=1\n",
    "                c+=1\n",
    "            i+=1\n",
    "    if(mode==2):\n",
    "        c=max(len(test_string),len(pattern))-c\n",
    "        if(c<=cutoff):\n",
    "            return(1)\n",
    "        else:\n",
    "            return(0)\n",
    "    c=c/max(len(test_string),len(pattern))\n",
    "    if(mode==1):\n",
    "        return(c)\n",
    "    if(c>=cutoff):\n",
    "        return(1)\n",
    "    else:\n",
    "        return(0)  "
   ]
  },
  {
   "cell_type": "code",
   "execution_count": 6,
   "metadata": {},
   "outputs": [],
   "source": [
    "def preprocess(s):\n",
    "    l=[]\n",
    "    distinct=[]\n",
    "    data=check(s)\n",
    "    for i in data:\n",
    "        if(i not in distinct):\n",
    "            if(type(i)==int and i!=0):\n",
    "                # this condition handles case for exponent floating point numbers.\n",
    "                l.append(str(i))\n",
    "                distinct.append(str(i))\n",
    "            else:\n",
    "                temp=\"\"\n",
    "                if(i!='0'):\n",
    "                    for j in range(len(i)):\n",
    "                        if(i[j]!='-' and i[j]!=' ' and i[j]!='.' and i[j]!='+'):\n",
    "                            temp+=i[j]\n",
    "                    l.append(temp)\n",
    "                    distinct.append(temp)\n",
    "    return(l)   "
   ]
  },
  {
   "cell_type": "code",
   "execution_count": 7,
   "metadata": {},
   "outputs": [],
   "source": [
    "def create_csv(filename,dict_obj):\n",
    "    with open(filename,'w') as out:\n",
    "        out.write(\"substr_SN , SerialNumber\\n\")\n",
    "        for i in dict_obj.keys():\n",
    "            temp=list(set(dict_obj[i]))\n",
    "            k=\"\"\n",
    "            for j in temp:\n",
    "                k+=j\n",
    "                k+=\" \"\n",
    "            out.write(\"%s, %s\\n\"%(i,k))\n",
    "    return"
   ]
  },
  {
   "cell_type": "code",
   "execution_count": 8,
   "metadata": {},
   "outputs": [],
   "source": [
    "def process(in_filename,out_filename):\n",
    "    data=read_data(in_filename)\n",
    "    dataset=preprocess(data)\n",
    "    #k=det_stat(dataset)  # can only be used with KMP with mode 1.\n",
    "    k=2                   # our hardwired matching cariterion.\n",
    "    print(\"cutoff : \"+str(k)) # ditermined cutoff / percentage match criterion.\n",
    "    d={}\n",
    "    for i in range(len(dataset)):\n",
    "        d[dataset[i]]=[]\n",
    "        for j in range(len(dataset)):\n",
    "            if(dataset[i]!=dataset[j]):\n",
    "                if(KMP(dataset[i],dataset[j],2,k)==1):\n",
    "                    d[dataset[i]].append(dataset[j])\n",
    "    create_csv(out_filename,d)\n",
    "    return"
   ]
  },
  {
   "cell_type": "code",
   "execution_count": 9,
   "metadata": {},
   "outputs": [
    {
     "name": "stdout",
     "output_type": "stream",
     "text": [
      "cutoff : 2\n",
      "time taken to execute : 1.198258399963379seconds\n"
     ]
    }
   ],
   "source": [
    "process(\"data1.csv\",\"output.csv\")\n",
    "end=time.time()\n",
    "print(\"time taken to execute : \"+str(end-start)+\"seconds\")"
   ]
  },
  {
   "cell_type": "code",
   "execution_count": null,
   "metadata": {},
   "outputs": [],
   "source": []
  },
  {
   "cell_type": "code",
   "execution_count": null,
   "metadata": {},
   "outputs": [],
   "source": []
  },
  {
   "cell_type": "code",
   "execution_count": null,
   "metadata": {},
   "outputs": [],
   "source": []
  },
  {
   "cell_type": "code",
   "execution_count": null,
   "metadata": {},
   "outputs": [],
   "source": []
  },
  {
   "cell_type": "code",
   "execution_count": null,
   "metadata": {},
   "outputs": [],
   "source": []
  }
 ],
 "metadata": {
  "kernelspec": {
   "display_name": "Python 3",
   "language": "python",
   "name": "python3"
  },
  "language_info": {
   "codemirror_mode": {
    "name": "ipython",
    "version": 3
   },
   "file_extension": ".py",
   "mimetype": "text/x-python",
   "name": "python",
   "nbconvert_exporter": "python",
   "pygments_lexer": "ipython3",
   "version": "3.5.2"
  }
 },
 "nbformat": 4,
 "nbformat_minor": 2
}
